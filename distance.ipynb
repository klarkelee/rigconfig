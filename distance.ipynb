{
 "cells": [
  {
   "cell_type": "code",
   "execution_count": 40,
   "metadata": {
    "collapsed": true
   },
   "outputs": [],
   "source": [
    "%matplotlib inline\n",
    "import matplotlib.pyplot as plt\n",
    "import numpy as np"
   ]
  },
  {
   "cell_type": "code",
   "execution_count": 109,
   "metadata": {
    "collapsed": false
   },
   "outputs": [],
   "source": [
    "carpos = np.random.uniform(low=0, high=1, size=(100,2));\n",
    "stationpos = np.random.uniform(low=0, high=1, size=(10,2));"
   ]
  },
  {
   "cell_type": "code",
   "execution_count": 110,
   "metadata": {
    "collapsed": false
   },
   "outputs": [
    {
     "data": {
      "image/png": "[encoded data removed]",
      "text/plain": [
       "<matplotlib.figure.Figure at 0x10eb522d0>"
      ]
     },
     "metadata": {},
     "output_type": "display_data"
    }
   ],
   "source": [
    "plt.plot(carpos[:,0], carpos[:,1], 'o', stationpos[:,0], stationpos[:,1], 'x');"
   ]
  },
  {
   "cell_type": "code",
   "execution_count": 111,
   "metadata": {
    "collapsed": false
   },
   "outputs": [],
   "source": [
    "from scipy.spatial.distance import cdist"
   ]
  },
  {
   "cell_type": "code",
   "execution_count": 140,
   "metadata": {
    "collapsed": false
   },
   "outputs": [],
   "source": [
    "distcar2pos = cdist( carpos, stationpos, metric=\"euclidean\" );\n",
    "distcar2car = cdist( carpos, carpos, metric=\"euclidean\" );"
   ]
  },
  {
   "cell_type": "code",
   "execution_count": 141,
   "metadata": {
    "collapsed": false
   },
   "outputs": [],
   "source": [
    "distcar2pos_missing = distcar2pos.copy();"
   ]
  },
  {
   "cell_type": "code",
   "execution_count": 142,
   "metadata": {
    "collapsed": false
   },
   "outputs": [],
   "source": [
    "missing = np.random.uniform(low=0, high=1, size=(100,10));"
   ]
  },
  {
   "cell_type": "code",
   "execution_count": 143,
   "metadata": {
    "collapsed": true
   },
   "outputs": [],
   "source": [
    "distcar2pos_missing[missing>0.9]=np.NaN"
   ]
  },
  {
   "cell_type": "code",
   "execution_count": 144,
   "metadata": {
    "collapsed": false
   },
   "outputs": [
    {
     "data": {
      "text/plain": [
       "array([[ 0.83397517,  0.29456537,  0.57991454,  0.80071062,  1.0229812 ,\n",
       "         1.08083883,         nan,  0.44593876,  0.85284152,  0.2989612 ],\n",
       "       [        nan,  0.10129553,  0.41343051,  0.75051818,  0.93398535,\n",
       "         0.99572344,  0.80705491,  0.34197529,  0.78734314,  0.12660564],\n",
       "       [ 0.7347346 ,  0.18798614,  0.40126607,         nan,  0.87733003,\n",
       "         0.9377104 ,  0.71588609,  0.28586827,  0.72077342,  0.21788046],\n",
       "       [ 0.86217262,  0.07248164,  0.34768991,  0.77775075,  0.92249646,\n",
       "         0.98589742,  0.92465443,  0.36168289,  0.80082946,  0.10353694],\n",
       "       [ 0.68085827,  0.41715578,  0.06847562,         nan,  0.62410191,\n",
       "         0.68695924,         nan,  0.27483685,  0.55531159,  0.45586353],\n",
       "       [ 0.73358592,  0.32757009,  0.53446664,  0.70514955,  0.9350491 ,\n",
       "         0.99147931,  0.61545204,  0.37474959,  0.76010989,  0.3449795 ],\n",
       "       [ 0.32967649,  0.9581282 ,  0.59239522,  0.24884368,  0.02313871,\n",
       "         0.06998636,  0.79647718,  0.58458005,  0.17487301,         nan],\n",
       "       [ 0.37399152,  0.65323166,  0.29057841,  0.24466988,  0.31106979,\n",
       "         0.37442484,         nan,  0.29335533,         nan,  0.69788528],\n",
       "       [ 0.64733145,  0.32563329,  0.08047212,  0.54287746,  0.65541605,\n",
       "         0.71903247,  0.83287497,  0.17959299,         nan,  0.36816949],\n",
       "       [ 0.60638829,  0.71513017,  0.31289716,  0.47481867,  0.40080518,\n",
       "         0.45551098,         nan,         nan,  0.42731057,         nan],\n",
       "       [ 0.97215139,  0.48816129,  0.35841403,  0.8507653 ,         nan,\n",
       "         0.93043344,  1.2009057 ,  0.54732689,  0.835116  ,  0.50619709],\n",
       "       [ 0.75002415,  0.56262965,         nan,  0.6217135 ,  0.61101307,\n",
       "         0.66939633,  1.05020432,  0.42361561,  0.59413667,  0.59726925],\n",
       "       [ 0.59443401,  0.54795182,  0.14491308,  0.46734622,  0.48851294,\n",
       "         0.55038698,  0.90187313,         nan,  0.44490554,  0.58899896],\n",
       "       [ 0.4426    ,  0.51633186,  0.17973792,  0.32883628,  0.44744841,\n",
       "                nan,         nan,  0.16420294,  0.33338647,  0.56105082],\n",
       "       [ 0.76753346,  0.14889322,  0.25533919,  0.67967994,         nan,\n",
       "         0.88607307,  0.86102953,  0.26606722,  0.7012443 ,  0.19131247],\n",
       "       [ 0.4869854 ,  0.48573976,         nan,  0.37296699,  0.48049951,\n",
       "         0.54395447,  0.74866545,         nan,  0.37535828,  0.53015287],\n",
       "       [ 0.77164111,  0.17204732,  0.43008094,  0.71658668,  0.91512906,\n",
       "         0.97561331,  0.73958446,  0.32314643,  0.75893342,  0.19578862],\n",
       "       [ 0.54292868,  0.33963856,  0.21580401,  0.46288168,  0.63989042,\n",
       "         0.70124946,  0.66733091,  0.04707804,  0.49420566,  0.38392849],\n",
       "       [ 0.89668286,  0.46379797,  0.28510575,  0.77521139,  0.79971691,\n",
       "         0.85978097,  1.13259345,  0.4791177 ,  0.75996023,  0.48773784],\n",
       "       [ 0.30657982,  0.89744385,  0.53439903,  0.20748542,  0.0710485 ,\n",
       "         0.13043295,  0.76567259,  0.52392459,  0.13104834,  0.94225592],\n",
       "       [ 0.45668479,  0.45950844,  0.18049134,         nan,         nan,\n",
       "         0.56961639,         nan,  0.09209743,  0.37480948,  0.50437149],\n",
       "       [ 0.71498913,         nan,  0.1829942 ,  0.62074389,  0.75326795,\n",
       "         0.81675411,  0.84473263,  0.21733731,  0.63790075,  0.26405151],\n",
       "       [ 0.31080326,  0.71751497,  0.61462164,  0.36010328,  0.62877508,\n",
       "         0.66582531,  0.24285127,  0.42055727,  0.43611831,  0.75413978],\n",
       "       [ 0.58126486,  0.37684288,  0.44373169,  0.55041924,  0.78369675,\n",
       "         0.83910537,  0.52595899,  0.25274895,  0.60618127,  0.40895161],\n",
       "       [        nan,  0.71794875,  0.43920403,  0.08561803,  0.32856347,\n",
       "         0.37746374,  0.54144916,  0.3336453 ,  0.13924122,  0.76208584],\n",
       "       [ 0.34706996,  0.6079776 ,         nan,  0.22809348,  0.36032442,\n",
       "         0.42189474,  0.66706274,         nan,  0.23146449,         nan],\n",
       "       [ 0.74149211,  0.25404126,         nan,  0.63978114,  0.75098323,\n",
       "         0.81460441,  0.89716364,  0.25566046,  0.64986689,  0.29263635],\n",
       "       [ 0.45574299,  0.47839519,  0.43901748,  0.43306661,  0.6784006 ,\n",
       "         0.73078537,  0.44283028,  0.23113656,  0.49387298,  0.51517645],\n",
       "       [ 0.80755092,  0.44039558,  0.67327834,  0.79824101,  1.04233973,\n",
       "         1.095915  ,  0.60219623,  0.50576807,         nan,  0.44797678],\n",
       "       [ 0.8652006 ,  0.04727452,  0.365507  ,  0.78388373,         nan,\n",
       "         0.99809875,  0.91459131,  0.36660298,  0.80918176,  0.08151819],\n",
       "       [ 0.58420332,  0.41013894,  0.48657283,  0.56322181,  0.80428064,\n",
       "         0.8581189 ,         nan,  0.29217045,  0.62257203,  0.43982754],\n",
       "       [ 0.39841018,  0.7161425 ,  0.66419102,  0.45038121,  0.71914836,\n",
       "         0.75631018,  0.19469127,  0.46124681,  0.52624957,  0.74930241],\n",
       "       [        nan,  0.42256953,         nan,         nan,  1.25006272,\n",
       "         1.30805514,  0.87097668,  0.66867378,  1.07977857,  0.40232546],\n",
       "       [ 0.88474869,  0.28778267,  0.60616794,  0.84907955,  1.06743701,\n",
       "         1.12593786,  0.75737082,  0.48483262,         nan,  0.28431326],\n",
       "       [        nan,  0.19528581,         nan,  0.77728226,         nan,\n",
       "         1.04213238,  0.7577528 ,  0.39179818,  0.8224063 ,  0.20397695],\n",
       "       [ 0.71875983,  0.16180432,  0.32057489,  0.64879682,  0.82815161,\n",
       "         0.88995243,  0.75460878,  0.23671819,  0.68330465,  0.20310276],\n",
       "       [ 0.57438917,  0.72237638,  0.31834219,  0.44299073,  0.36836328,\n",
       "         0.423896  ,  0.95631592,         nan,  0.39423148,  0.76369691],\n",
       "       [ 0.10097293,  0.79199767,         nan,  0.05321125,  0.32030438,\n",
       "         0.3583475 ,  0.50822555,  0.41015623,  0.12945916,  0.83570732],\n",
       "       [ 0.58405122,  0.3397874 ,  0.11937911,  0.48654806,  0.62446601,\n",
       "         0.68763089,  0.75723594,  0.10387233,  0.50338858,  0.38436356],\n",
       "       [ 0.25643206,         nan,  0.72880848,  0.35722069,         nan,\n",
       "         0.631226  ,  0.21294831,  0.55037246,  0.4304331 ,  0.90792931],\n",
       "       [        nan,  0.54921447,  0.25988518,  0.69744973,  0.68996359,\n",
       "         0.74796418,  1.10823978,  0.46779427,  0.6720573 ,  0.57965898],\n",
       "       [ 0.65245756,  0.6392833 ,  0.7401483 ,  0.6831307 ,  0.94887616,\n",
       "         0.9928518 ,  0.34879946,  0.53670686,  0.7554407 ,  0.65962977],\n",
       "       [ 0.53043387,  0.42589833,  0.09862068,  0.42239376,  0.54049605,\n",
       "         0.60391862,         nan,         nan,  0.43037961,  0.47024199],\n",
       "       [ 0.9859057 ,  0.39568249,  0.73399783,  0.96019529,         nan,\n",
       "         1.24424028,  0.80553899,  0.61009805,  1.01452696,  0.38216741],\n",
       "       [ 0.77449882,  0.61819822,  0.27470876,  0.64429956,  0.60921578,\n",
       "         0.66508615,  1.09274854,  0.47547917,  0.61058252,  0.65205853],\n",
       "       [ 0.51278208,  0.95578408,  0.91288156,  0.61120181,  0.8645644 ,\n",
       "         0.88694416,  0.05921971,  0.71267701,  0.68570456,  0.9857281 ],\n",
       "       [ 0.86802591,  0.42913601,  0.69892239,  0.85458544,  1.09442288,\n",
       "         1.14911809,  0.66441502,  0.54355548,  0.91419336,  0.43032813],\n",
       "       [ 0.53132305,  0.44682011,  0.478313  ,  0.51359829,  0.75890609,\n",
       "         0.81157295,  0.45635456,  0.27550283,  0.57475413,  0.47924135],\n",
       "       [ 0.48794807,  0.90162055,  0.86172959,  0.57860856,  0.83719457,\n",
       "         0.86284892,  0.0203933 ,  0.66036257,  0.65412543,  0.9317868 ],\n",
       "       [ 0.27886139,  0.603731  ,  0.36207639,  0.20321241,  0.42851682,\n",
       "                nan,  0.52907023,  0.22281529,  0.25055096,  0.64750583],\n",
       "       [ 0.38713963,         nan,  0.32805274,  0.32737457,  0.54869323,\n",
       "                nan,  0.52561502,  0.13582256,  0.37554987,  0.53434002],\n",
       "       [        nan,  0.06201362,  0.38090022,  0.81127437,  0.95696256,\n",
       "         1.02036808,  0.9467029 ,  0.39467178,  0.83494341,  0.07885782],\n",
       "       [ 0.48720387,  0.54121291,  0.15916137,         nan,  0.43484105,\n",
       "         0.49844669,  0.78757446,  0.22514536,  0.35325181,  0.58508413],\n",
       "       [ 0.47573515,  0.60396171,  0.60408402,  0.49833206,  0.76351683,\n",
       "         0.80793985,  0.29882613,  0.39619203,         nan,         nan],\n",
       "       [ 0.39587639,  0.55725141,  0.22753454,  0.28064716,  0.40760679,\n",
       "         0.47006559,         nan,  0.18996677,  0.28579416,  0.60208896],\n",
       "       [ 0.74788352,  0.20643267,         nan,  0.69734109,  0.90275214,\n",
       "         0.96251726,  0.70527104,  0.31416248,  0.74226308,  0.23065143],\n",
       "       [ 0.22381093,  0.86992318,  0.53082989,  0.1263823 ,  0.1425222 ,\n",
       "         0.18702897,  0.68186086,  0.48797974,  0.05207993,  0.91475326],\n",
       "       [ 0.37216248,  0.91362181,  0.81677656,  0.47424712,  0.72428199,\n",
       "         0.74609169,  0.10553   ,  0.62647758,  0.54772616,  0.94799998],\n",
       "       [ 0.26895567,         nan,  0.67415493,  0.34770455,  0.61007013,\n",
       "         0.64000989,  0.21527754,  0.48919999,  0.42367235,  0.83866154],\n",
       "       [ 0.67817778,         nan,  0.08859186,  0.57217203,  0.67685243,\n",
       "         0.74046912,  0.86408471,  0.21133943,  0.57897294,  0.35847464],\n",
       "       [ 0.53779291,  0.34092402,  0.24372506,  0.46368903,  0.65058122,\n",
       "         0.71124831,  0.64432153,  0.06064236,  0.4989984 ,  0.38453   ],\n",
       "       [ 0.41645456,  0.95552144,         nan,  0.31970872,  0.07403963,\n",
       "         0.11096681,         nan,  0.59695189,  0.24326628,  0.99988066],\n",
       "       [ 0.36429329,  0.68251472,  0.61122957,  0.4045492 ,  0.67328981,\n",
       "         0.71281102,  0.24356375,  0.41011704,  0.47961385,  0.71751053],\n",
       "       [ 0.13529765,  0.9264874 ,  0.71844303,         nan,  0.48185229,\n",
       "         0.49730009,  0.35702551,  0.56972351,  0.32447246,  0.96732164],\n",
       "       [ 0.30594529,         nan,  0.69558078,  0.38484514,  0.64762242,\n",
       "         0.6775195 ,         nan,  0.50563726,  0.46091964,         nan],\n",
       "       [ 0.58299466,  0.29560553,  0.24469996,  0.5085817 ,  0.69074474,\n",
       "         0.75194642,  0.67438255,  0.09762172,  0.54264046,  0.33922989],\n",
       "       [ 0.48107152,  0.39766779,  0.2560823 ,  0.40795309,  0.60237538,\n",
       "         0.66212721,  0.60772697,  0.04817787,  0.44547373,  0.44120454],\n",
       "       [        nan,  0.66343969,  0.40565177,  0.14397769,  0.38198758,\n",
       "         0.43323904,  0.52261928,  0.28119794,         nan,         nan],\n",
       "       [        nan,  0.57017531,  0.48099704,         nan,         nan,\n",
       "         0.67084432,  0.37520396,  0.27852506,  0.43190123,  0.60805419],\n",
       "       [ 0.17207943,  0.90398331,  0.71790397,  0.28958404,  0.52385768,\n",
       "         0.54263828,  0.30656723,  0.55793109,  0.3573386 ,  0.94384433],\n",
       "       [ 0.7326038 ,  0.15368966,  0.34423782,  0.66558813,  0.84878901,\n",
       "                nan,  0.75411159,  0.25634622,  0.70169527,  0.19251241],\n",
       "       [ 0.26716697,  0.9402686 ,  0.7885856 ,  0.38390742,  0.61807698,\n",
       "         0.63476934,  0.22854185,  0.61545748,  0.45257159,  0.97801616],\n",
       "       [ 0.63786547,  0.35392455,  0.05120675,  0.52982771,  0.63276762,\n",
       "         0.69639068,  0.84045037,  0.18723561,  0.5352107 ,  0.39612721],\n",
       "       [ 0.70471834,  0.60573481,  0.23230492,  0.57458059,  0.54792795,\n",
       "         0.60545621,  1.02781372,  0.42265338,  0.54169416,  0.64261041],\n",
       "       [        nan,  0.6692735 ,  0.26651065,  0.46271657,  0.41658059,\n",
       "         0.47423977,  0.9542893 ,  0.40765278,  0.42159286,  0.71001348],\n",
       "       [ 0.07750403,  0.80539796,  0.56841305,  0.12874669,  0.38857726,\n",
       "         0.42087088,  0.43342464,  0.43328524,  0.20320858,  0.84798668],\n",
       "       [ 0.28759744,  1.00479687,  0.65517986,  0.24157526,  0.10482743,\n",
       "         0.09277255,  0.75571225,  0.62381592,  0.18185354,  1.04965193],\n",
       "       [ 0.81427969,  0.27277258,         nan,  0.77775594,         nan,\n",
       "         1.05535848,  0.70467794,  0.41766837,  0.82862889,  0.28056522],\n",
       "       [ 0.72395877,  0.41071471,  0.1086606 ,  0.60568757,  0.66068057,\n",
       "         0.72316152,  0.9606597 ,  0.31008223,  0.59701759,  0.44701131],\n",
       "       [ 0.39659951,  0.82211174,         nan,  0.47648127,  0.73969312,\n",
       "         0.76925967,         nan,  0.55728643,  0.55267904,  0.85509755],\n",
       "       [        nan,  0.3882988 ,  0.70237813,  0.90762217,  1.13792685,\n",
       "         1.19463554,  0.74940228,  0.56751994,  0.96333069,  0.38126634],\n",
       "       [ 0.34899754,  0.79016479,  0.7047991 ,  0.42253868,  0.68749723,\n",
       "         0.71890272,  0.15370139,  0.50911106,  0.49891281,  0.82484491],\n",
       "       [ 0.84172915,  0.08313676,  0.32862309,  0.75686427,  0.90177252,\n",
       "         0.96515393,  0.90948379,  0.34100978,  0.77982424,  0.11934059],\n",
       "       [ 0.92601627,  0.42102868,         nan,  0.90821866,  1.14336412,\n",
       "         1.19914681,         nan,  0.5806424 ,  0.96593708,  0.41563861],\n",
       "       [ 0.66704239,  0.39117764,  0.04533639,  0.55229143,         nan,\n",
       "         0.69170197,  0.89455982,  0.24436171,  0.5492425 ,  0.431048  ],\n",
       "       [ 0.69598317,  0.2143228 ,  0.19902133,  0.60646132,  0.75118058,\n",
       "         0.81439807,  0.81115592,         nan,  0.62775397,  0.25852002],\n",
       "       [ 0.32980592,  0.94645264,  0.82180435,  0.44209558,  0.68169846,\n",
       "         0.69945469,  0.16866026,         nan,  0.51269743,  0.98247552],\n",
       "       [ 0.50337819,  0.8477488 ,  0.44728301,         nan,  0.2276083 ,\n",
       "         0.27645983,  0.93332649,  0.52343748,  0.31405904,  0.89078213],\n",
       "       [ 0.76210074,  0.15793181,         nan,  0.70307432,  0.89657696,\n",
       "         0.95747248,  0.74693682,  0.3036452 ,  0.74339071,  0.18671422],\n",
       "       [ 0.13395002,  0.75209699,  0.53122176,  0.15157976,  0.42009621,\n",
       "         0.45802836,  0.41711165,  0.38449922,  0.22785744,  0.7943538 ],\n",
       "       [ 0.84705259,  0.4106817 ,  0.22837351,  0.72855514,  0.7715732 ,\n",
       "         0.83300666,  1.06985441,  0.41617964,  0.71818218,  0.43793561],\n",
       "       [ 0.85033937,  0.45312752,  0.24040899,  0.72889531,  0.75688876,\n",
       "         0.81741232,  1.0905592 ,  0.43780702,  0.71406972,  0.48061535],\n",
       "       [ 0.62801566,  0.40464214,  0.51989333,  0.60988595,  0.85162369,\n",
       "         0.90542576,  0.5090874 ,  0.33164478,  0.66971626,  0.43041825],\n",
       "       [ 0.57740549,         nan,         nan,  0.60011568,  0.86419208,\n",
       "         0.90950381,  0.33500202,  0.45401829,  0.67130572,  0.61936418],\n",
       "       [ 0.34290353,         nan,  0.34950926,  0.21117874,  0.25123456,\n",
       "         0.31444978,  0.73302929,         nan,  0.17492736,  0.75731972],\n",
       "       [ 0.91718248,  0.40597443,  0.70815382,         nan,  1.13138578,\n",
       "         1.18743351,  0.72603313,  0.56670421,  0.95475101,  0.40112156],\n",
       "       [ 0.63909119,  0.41522017,  0.53927483,  0.62407869,  0.86777486,\n",
       "                nan,  0.50483888,  0.35119589,  0.68485253,  0.43950273],\n",
       "       [ 0.88753867,  0.36893398,  0.26561033,  0.77276774,  0.82918453,\n",
       "         0.89116512,  1.08505429,  0.43427747,         nan,         nan],\n",
       "       [        nan,  0.32546215,  0.31403595,  0.50151444,  0.70685961,\n",
       "                nan,  0.60849891,  0.13201781,  0.54489121,  0.36598778],\n",
       "       [ 0.38409616,  0.84009098,         nan,  0.4689653 ,  0.73000224,\n",
       "         0.75800501,  0.09596687,  0.56802523,  0.54482474,  0.87358396]])"
      ]
     },
     "execution_count": 144,
     "metadata": {},
     "output_type": "execute_result"
    }
   ],
   "source": [
    "distcar2pos_missing"
   ]
  },
  {
   "cell_type": "code",
   "execution_count": 148,
   "metadata": {
    "collapsed": false
   },
   "outputs": [],
   "source": [
    "station1 = distcar2pos_missing[:,0]"
   ]
  },
  {
   "cell_type": "code",
   "execution_count": null,
   "metadata": {
    "collapsed": true
   },
   "outputs": [],
   "source": []
  },
  {
   "cell_type": "code",
   "execution_count": 122,
   "metadata": {
    "collapsed": false
   },
   "outputs": [
    {
     "data": {
      "text/plain": [
       "<matplotlib.colorbar.Colorbar at 0x10f8e6c50>"
      ]
     },
     "execution_count": 122,
     "metadata": {},
     "output_type": "execute_result"
    },
    {
     "data": {
      "image/png": "[encoded data removed]",
      "text/plain": [
       "<matplotlib.figure.Figure at 0x10f5accd0>"
      ]
     },
     "metadata": {},
     "output_type": "display_data"
    }
   ],
   "source": [
    "plt.pcolor(distcar2pos)    \n",
    "plt.colorbar()  "
   ]
  },
  {
   "cell_type": "code",
   "execution_count": null,
   "metadata": {
    "collapsed": true
   },
   "outputs": [],
   "source": []
  }
 ],
 "metadata": {
  "kernelspec": {
   "display_name": "Python 2",
   "language": "python",
   "name": "python2"
  },
  "language_info": {
   "codemirror_mode": {
    "name": "ipython",
    "version": 2
   },
   "file_extension": ".py",
   "mimetype": "text/x-python",
   "name": "python",
   "nbconvert_exporter": "python",
   "pygments_lexer": "ipython2",
   "version": "2.7.12"
  }
 },
 "nbformat": 4,
 "nbformat_minor": 0
}
