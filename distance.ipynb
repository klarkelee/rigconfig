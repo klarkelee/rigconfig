{
 "cells": [
  {
   "cell_type": "code",
   "execution_count": 1,
   "metadata": {
    "collapsed": true
   },
   "outputs": [],
   "source": [
    "%matplotlib inline\n",
    "import matplotlib.pyplot as plt\n",
    "import numpy as np"
   ]
  },
  {
   "cell_type": "code",
   "execution_count": 2,
   "metadata": {
    "collapsed": false
   },
   "outputs": [],
   "source": [
    "cars = np.random.uniform(low=0, high=1, size=(100,2));\n",
    "stations = np.random.uniform(low=0, high=1, size=(10,2));"
   ]
  },
  {
   "cell_type": "code",
   "execution_count": 3,
   "metadata": {
    "collapsed": false,
    "scrolled": true
   },
   "outputs": [
    {
     "data": {
      "image/png": "[encoded data removed]",
      "text/plain": [
       "<matplotlib.figure.Figure at 0x10b85cb90>"
      ]
     },
     "metadata": {},
     "output_type": "display_data"
    }
   ],
   "source": [
    "plt.plot(cars[:,0], cars[:,1], 'o', stations[:,0], stations[:,1], 'x');"
   ]
  },
  {
   "cell_type": "markdown",
   "metadata": {},
   "source": [
    "100 cars(Blue dot) and 10 stations(green cross)"
   ]
  },
  {
   "cell_type": "code",
   "execution_count": 4,
   "metadata": {
    "collapsed": false
   },
   "outputs": [],
   "source": [
    "from scipy.spatial.distance import cdist"
   ]
  },
  {
   "cell_type": "code",
   "execution_count": 5,
   "metadata": {
    "collapsed": false
   },
   "outputs": [],
   "source": [
    "dist_car2station = cdist( cars, stations, metric=\"euclidean\" );\n",
    "dist_car2car = cdist( cars, cars, metric=\"euclidean\" );"
   ]
  },
  {
   "cell_type": "code",
   "execution_count": 6,
   "metadata": {
    "collapsed": false
   },
   "outputs": [],
   "source": [
    "dist_car2station_missing = dist_car2station.copy();"
   ]
  },
  {
   "cell_type": "code",
   "execution_count": 7,
   "metadata": {
    "collapsed": false
   },
   "outputs": [],
   "source": [
    "missing = np.random.uniform(low=0, high=1, size=(100,10));"
   ]
  },
  {
   "cell_type": "code",
   "execution_count": 8,
   "metadata": {
    "collapsed": false
   },
   "outputs": [
    {
     "data": {
      "text/plain": [
       "18.299738300808382"
      ]
     },
     "execution_count": 8,
     "metadata": {},
     "output_type": "execute_result"
    }
   ],
   "source": [
    "# impute missing distance by average\n",
    "dist_car2station_missing[missing>0.9]=np.NaN;\n",
    "for j in range(0, dist_car2station_missing.shape[1]):\n",
    "    station = dist_car2station_missing[:,j];\n",
    "    avg = np.nanmean(dist_car2station_missing[:,j]);\n",
    "    for i in range(0,station.size):\n",
    "        if np.isnan(station[i]):\n",
    "            station[i]=avg\n",
    "np.nansum(abs(dist_car2station_missing - dist_car2station))"
   ]
  },
  {
   "cell_type": "code",
   "execution_count": 9,
   "metadata": {
    "collapsed": false
   },
   "outputs": [
    {
     "data": {
      "text/plain": [
       "3.5521123523334475"
      ]
     },
     "execution_count": 9,
     "metadata": {},
     "output_type": "execute_result"
    }
   ],
   "source": [
    "# impute missing distance by non-missing distance of THE nearest car \n",
    "dist_car2station_missing[missing>0.9]=np.NaN;\n",
    "for j in range(0, dist_car2station_missing.shape[1]):\n",
    "    station = dist_car2station_missing[:,j];\n",
    "    for i in range(0,station.size):\n",
    "        if np.isnan(station[i]):\n",
    "            station[i]=station[np.argwhere(station>0).T[0][np.argmin(dist_car2car[i,np.argwhere(station>0).T[0]])]]\n",
    "np.nansum(abs(dist_car2station_missing - dist_car2station))"
   ]
  },
  {
   "cell_type": "code",
   "execution_count": 14,
   "metadata": {
    "collapsed": false
   },
   "outputs": [
    {
     "data": {
      "text/plain": [
       "3.1909340605427898"
      ]
     },
     "execution_count": 14,
     "metadata": {},
     "output_type": "execute_result"
    }
   ],
   "source": [
    "# impute missing distance by average non-missing of top n cars \n",
    "dist_car2station_missing[missing>0.9]=np.NaN;\n",
    "# set the top n\n",
    "n=4;\n",
    "for j in range(0, dist_car2station_missing.shape[1]):\n",
    "    station = dist_car2station_missing[:,j];\n",
    "    for i in range(0,station.size):\n",
    "        if np.isnan(station[i]):\n",
    "            station[i]=np.mean(station[np.argwhere(station>0).T[0][np.argsort(dist_car2car[i,np.argwhere(station>0).T[0]])[0:n]]])\n",
    "np.nansum(abs(dist_car2station_missing - dist_car2station))"
   ]
  },
  {
   "cell_type": "code",
   "execution_count": null,
   "metadata": {
    "collapsed": true
   },
   "outputs": [],
   "source": []
  }
 ],
 "metadata": {
  "kernelspec": {
   "display_name": "Python 2",
   "language": "python",
   "name": "python2"
  },
  "language_info": {
   "codemirror_mode": {
    "name": "ipython",
    "version": 2
   },
   "file_extension": ".py",
   "mimetype": "text/x-python",
   "name": "python",
   "nbconvert_exporter": "python",
   "pygments_lexer": "ipython2",
   "version": "2.7.12"
  }
 },
 "nbformat": 4,
 "nbformat_minor": 0
}
