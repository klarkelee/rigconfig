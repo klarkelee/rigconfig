{
 "cells": [
  {
   "cell_type": "code",
   "execution_count": 1,
   "metadata": {
    "collapsed": true
   },
   "outputs": [],
   "source": [
    "%matplotlib inline\n",
    "import matplotlib.pyplot as plt\n",
    "import numpy as np"
   ]
  },
  {
   "cell_type": "code",
   "execution_count": 2,
   "metadata": {
    "collapsed": false
   },
   "outputs": [],
   "source": [
    "carpos = np.random.uniform(low=0, high=1, size=(100,2));\n",
    "stationpos = np.random.uniform(low=0, high=1, size=(10,2));"
   ]
  },
  {
   "cell_type": "code",
   "execution_count": 3,
   "metadata": {
    "collapsed": false,
    "scrolled": true
   },
   "outputs": [
    {
     "data": {
      "image/png": "[encoded data removed]",
      "text/plain": [
       "<matplotlib.figure.Figure at 0x10a8edb90>"
      ]
     },
     "metadata": {},
     "output_type": "display_data"
    }
   ],
   "source": [
    "plt.plot(carpos[:,0], carpos[:,1], 'o', stationpos[:,0], stationpos[:,1], 'x');"
   ]
  },
  {
   "cell_type": "markdown",
   "metadata": {},
   "source": [
    "100 cars(Blue dot) and 10 stations(green cross)"
   ]
  },
  {
   "cell_type": "code",
   "execution_count": 4,
   "metadata": {
    "collapsed": false
   },
   "outputs": [],
   "source": [
    "from scipy.spatial.distance import cdist"
   ]
  },
  {
   "cell_type": "code",
   "execution_count": 5,
   "metadata": {
    "collapsed": false
   },
   "outputs": [],
   "source": [
    "distcar2pos = cdist( carpos, stationpos, metric=\"euclidean\" );\n",
    "distcar2car = cdist( carpos, carpos, metric=\"euclidean\" );"
   ]
  },
  {
   "cell_type": "code",
   "execution_count": 6,
   "metadata": {
    "collapsed": false
   },
   "outputs": [],
   "source": [
    "distcar2pos_missing = distcar2pos.copy();"
   ]
  },
  {
   "cell_type": "code",
   "execution_count": 7,
   "metadata": {
    "collapsed": false
   },
   "outputs": [],
   "source": [
    "missing = np.random.uniform(low=0, high=1, size=(100,10));"
   ]
  },
  {
   "cell_type": "code",
   "execution_count": 8,
   "metadata": {
    "collapsed": false
   },
   "outputs": [
    {
     "data": {
      "text/plain": [
       "19.473628204067516"
      ]
     },
     "execution_count": 8,
     "metadata": {},
     "output_type": "execute_result"
    }
   ],
   "source": [
    "# impute missing distance by average\n",
    "distcar2pos_missing[missing>0.9]=np.NaN;\n",
    "for j in range(0, distcar2pos_missing.shape[1]):\n",
    "    station = distcar2pos_missing[:,j];\n",
    "    avg = np.nanmean(distcar2pos_missing[:,j]);\n",
    "    for i in range(0,station.size):\n",
    "        if np.isnan(station[i]):\n",
    "            station[i]=avg\n",
    "np.nansum(abs(distcar2pos_missing - distcar2pos))"
   ]
  },
  {
   "cell_type": "code",
   "execution_count": 9,
   "metadata": {
    "collapsed": false
   },
   "outputs": [
    {
     "data": {
      "text/plain": [
       "3.5966440943724765"
      ]
     },
     "execution_count": 9,
     "metadata": {},
     "output_type": "execute_result"
    }
   ],
   "source": [
    "# impute missing distance by non-missing distance of nearest car \n",
    "distcar2pos_missing[missing>0.9]=np.NaN;\n",
    "for j in range(0, distcar2pos_missing.shape[1]):\n",
    "    station = distcar2pos_missing[:,j];\n",
    "    for i in range(0,station.size):\n",
    "        if np.isnan(station[i]):\n",
    "            station[i]=station[np.argwhere(station>0).T[0][np.argmin(distcar2car[i,np.argwhere(station>0).T[0]])]]\n",
    "np.nansum(abs(distcar2pos_missing - distcar2pos))"
   ]
  },
  {
   "cell_type": "code",
   "execution_count": 16,
   "metadata": {
    "collapsed": false
   },
   "outputs": [
    {
     "data": {
      "text/plain": [
       "3.0704287080826234"
      ]
     },
     "execution_count": 16,
     "metadata": {},
     "output_type": "execute_result"
    }
   ],
   "source": [
    "# impute missing distance by average non-missing of top n cars \n",
    "distcar2pos_missing[missing>0.9]=np.NaN;\n",
    "# set the top n\n",
    "n=4;\n",
    "for j in range(0, distcar2pos_missing.shape[1]):\n",
    "    station = distcar2pos_missing[:,j];\n",
    "    for i in range(0,station.size):\n",
    "        if np.isnan(station[i]):\n",
    "            station[i]=np.mean(station[np.argwhere(station>0).T[0][np.argsort(distcar2car[i,np.argwhere(station>0).T[0]])[0:n]]])\n",
    "np.nansum(abs(distcar2pos_missing - distcar2pos))"
   ]
  },
  {
   "cell_type": "code",
   "execution_count": null,
   "metadata": {
    "collapsed": true
   },
   "outputs": [],
   "source": []
  }
 ],
 "metadata": {
  "kernelspec": {
   "display_name": "Python 2",
   "language": "python",
   "name": "python2"
  },
  "language_info": {
   "codemirror_mode": {
    "name": "ipython",
    "version": 2
   },
   "file_extension": ".py",
   "mimetype": "text/x-python",
   "name": "python",
   "nbconvert_exporter": "python",
   "pygments_lexer": "ipython2",
   "version": "2.7.12"
  }
 },
 "nbformat": 4,
 "nbformat_minor": 0
}
